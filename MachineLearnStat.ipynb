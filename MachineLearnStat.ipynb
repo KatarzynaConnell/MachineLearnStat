{
 "cells": [
  {
   "cell_type": "markdown",
   "metadata": {},
   "source": [
    "# Tasks\n"
   ]
  },
  {
   "cell_type": "markdown",
   "metadata": {},
   "source": [
    "These are my solutions to the Tasks assessment for Machine Learning and Statistics in 2020. . The author is Katarzyna Connell (G00376370@gmit.ie)\n",
    "\n",
    "***"
   ]
  },
  {
   "cell_type": "markdown",
   "metadata": {},
   "source": [
    "#### Task: Calculate a square root\n",
    "\n",
    "***\n",
    "\n",
    "In  Python we can calculate the square root of a number in a few different ways but in this assignent the aim is to calculate the square root without using a built in Python library.\n",
    "\n",
    "Every real nuber has 2 square roots. The most common analytical methods in finding the square root are iterative and require two steps: finding a suitable starting value, followed by iterative refinement until termination criteria is met. Number can be the starting value, but fewer iterations will be required the closer it is to the final result. The most suitable method for programmatic calculation is Newton's method which is based on a property of the derivative in the calculus and will be investogated below. [1, 2, 3, 4].\n",
    "\n",
    "To find the square root $z$ of a number $x$, we can iterate using the following equation. \n",
    "\n",
    "$$ z_{next} = z - \\frac{z^2 - x}{2z}  $$\n",
    "\n",
    "[1] A Tour of Go; Exercise: Loops and Functions; https://tour.golang.org/flowcontrol/8   \n",
    "[2] Newton's method; Wikipedia; https://en.wikipedia.org/wiki/Newton%27s_method\n",
    "[3] Methods of computing square roots; Wikipedia; https://en.wikipedia.org/wiki/Methods_of_computing_square_roots\n",
    "[4] Getting started with task assessment; Ian McLoughlin; https://web.microsoftstream.com/video/0519941d-9f8b-4ae1-8935-6711117cf8fe "
   ]
  },
  {
   "cell_type": "code",
   "execution_count": 1,
   "metadata": {},
   "outputs": [],
   "source": [
    "def sqrt(x):\n",
    "    \"\"\"\n",
    "    # A function to calculate a square root of a number x\n",
    "    \"\"\"\n",
    "    # Initial guess for the square root z\n",
    "    z = x / 2\n",
    "    #Loop until we're happy with the accuracy.\n",
    "    while abs(x - (z * z)) > 0.001:\n",
    "        # Calculate a better guess for the square root.\n",
    "        z -= (z * z - x) / (2 * z)\n",
    "    #Return the (approximate) square root of x.\n",
    "    return z "
   ]
  },
  {
   "cell_type": "markdown",
   "metadata": {},
   "source": [
    "##### Tests of the function\n",
    "\n",
    "Here we test the function with some known values."
   ]
  },
  {
   "cell_type": "code",
   "execution_count": 2,
   "metadata": {},
   "outputs": [
    {
     "data": {
      "text/plain": [
       "4.472137791286727"
      ]
     },
     "execution_count": 2,
     "metadata": {},
     "output_type": "execute_result"
    }
   ],
   "source": [
    "# Testing the function on 20.\n",
    "sqrt(20)"
   ]
  },
  {
   "cell_type": "code",
   "execution_count": 3,
   "metadata": {},
   "outputs": [
    {
     "data": {
      "text/plain": [
       "37.416573867834295"
      ]
     },
     "execution_count": 3,
     "metadata": {},
     "output_type": "execute_result"
    }
   ],
   "source": [
    "#Test the function on 1400\n",
    "sqrt(1400)"
   ]
  },
  {
   "cell_type": "code",
   "execution_count": 4,
   "metadata": {},
   "outputs": [
    {
     "data": {
      "text/plain": [
       "37.416573867739416"
      ]
     },
     "execution_count": 4,
     "metadata": {},
     "output_type": "execute_result"
    }
   ],
   "source": [
    "# import math library to compare the results \n",
    "import math\n",
    "math.sqrt(1400)"
   ]
  },
  {
   "cell_type": "code",
   "execution_count": null,
   "metadata": {},
   "outputs": [],
   "source": []
  }
 ],
 "metadata": {
  "kernelspec": {
   "display_name": "Python 3",
   "language": "python",
   "name": "python3"
  },
  "language_info": {
   "codemirror_mode": {
    "name": "ipython",
    "version": 3
   },
   "file_extension": ".py",
   "mimetype": "text/x-python",
   "name": "python",
   "nbconvert_exporter": "python",
   "pygments_lexer": "ipython3",
   "version": "3.8.3"
  }
 },
 "nbformat": 4,
 "nbformat_minor": 4
}
