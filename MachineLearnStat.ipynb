{
 "cells": [
  {
   "cell_type": "markdown",
   "metadata": {},
   "source": [
    "# Tasks\n"
   ]
  },
  {
   "cell_type": "markdown",
   "metadata": {},
   "source": [
    "These are my solutions to the Tasks assessment for Machine Learning and Statistics in 2020. The author is Katarzyna Chmielowiec-Connell (G00376370@gmit.ie)\n",
    "\n",
    "***"
   ]
  },
  {
   "cell_type": "markdown",
   "metadata": {},
   "source": [
    "### Task 1: Calculate a square root\n",
    "\n",
    "***\n",
    "\n",
    "In  Python we can calculate the square root of a number in many different ways but in this task the aim is to calculate the square root without using a built in Python library. One of the method that can be used for that purpose is the Netwon' method.\n",
    "\n",
    "Every real nuber has 2 square roots. The most common analytical methods in finding the square root are iterative and require two steps: finding a suitable starting value, followed by iterative refinement until termination criteria is met. The most suitable method for programmatic calculation is Newton's method which is based on a property of the derivative in the calculus [1, 2, 3, 4].\n",
    "\n",
    "To find the square root $b$ of a number $x$ we can use the following equation. \n",
    "\n",
    "$$ b_{next} = b - \\frac{b^2 - x}{2b}  $$\n",
    "\n",
    "With only a few iterations one can obtain a solution accurate to many decimal places. \n",
    "\n"
   ]
  },
  {
   "cell_type": "markdown",
   "metadata": {},
   "source": [
    "#### Code"
   ]
  },
  {
   "cell_type": "code",
   "execution_count": 7,
   "metadata": {},
   "outputs": [],
   "source": [
    "# code adopted from https://web.microsoftstream.com/video/0519941d-9f8b-4ae1-8935-6711117cf8fe \n",
    "\n",
    "# definition of the function sqrt_2\n",
    "def sqrt_2(x):\n",
    "    \"\"\"\n",
    "    # A function to calculate a square root of a number  \n",
    "    \"\"\"\n",
    "    # divide x by 2 to get the initial guess (the starting value)\n",
    "    b = x / 2\n",
    "    #Loop until happy with the accuracy.\n",
    "    while abs(x - (b * b)) > 0.001:\n",
    "        # starting with guess b, calculate a better b guess based on how close squareroot b is to x\n",
    "        b -= (b * b - x) / (2 * b)\n",
    "    #Return the (approximate) square root of x.\n",
    "    return b"
   ]
  },
  {
   "cell_type": "markdown",
   "metadata": {},
   "source": [
    "##### Tests of the function\n",
    "\n",
    "Here we test the function with some known values."
   ]
  },
  {
   "cell_type": "code",
   "execution_count": 8,
   "metadata": {},
   "outputs": [
    {
     "data": {
      "text/plain": [
       "1.4142156862745099"
      ]
     },
     "execution_count": 8,
     "metadata": {},
     "output_type": "execute_result"
    }
   ],
   "source": [
    "#Test the function on number 2\n",
    "sqrt_2(2)"
   ]
  },
  {
   "cell_type": "code",
   "execution_count": 9,
   "metadata": {},
   "outputs": [
    {
     "data": {
      "text/plain": [
       "1.4142135623730951"
      ]
     },
     "execution_count": 9,
     "metadata": {},
     "output_type": "execute_result"
    }
   ],
   "source": [
    "# import math library to compare the results \n",
    "import math\n",
    "math.sqrt(2)"
   ]
  },
  {
   "cell_type": "markdown",
   "metadata": {},
   "source": [
    "The function works correctly but it only displays 16 decimal places. To display hundres places, the following code was adopted:"
   ]
  },
  {
   "cell_type": "code",
   "execution_count": 40,
   "metadata": {},
   "outputs": [],
   "source": [
    "# Code adapt from https://rosettacode.org/wiki/Integer_roots#Python\n",
    "# defined function sqrt2\n",
    "def sqrt2(x):\n",
    "\n",
    "# set y to be a large integer\n",
    "    y = 2*100**x\n",
    "# set starting value as 1    \n",
    "    x_1 = 1 \n",
    "    \n",
    "# calculate the second step of approximation    \n",
    "    x_2 = (x_1 + y // (x_1)) // 2     \n",
    "\n",
    "    # using while loop get better guess of approximation\n",
    "    while x_1 != x_2:   \n",
    "        x_1 = x_2    \n",
    "        x_2 = (x_2 + y // x_2) // 2\n",
    "        \n",
    "#format the result to display decimal places   \n",
    "    result = f'{x_2  // 10**100}.{x_2  % 10**100:0100d}'\n",
    "    return result"
   ]
  },
  {
   "cell_type": "code",
   "execution_count": 41,
   "metadata": {},
   "outputs": [
    {
     "name": "stdout",
     "output_type": "stream",
     "text": [
      "1.4142135623730950488016887242096980785696718753769480731766797379907324784621070388503875343276415727\n"
     ]
    }
   ],
   "source": [
    "root = sqrt2(100)\n",
    "print(root)"
   ]
  },
  {
   "cell_type": "markdown",
   "metadata": {},
   "source": [
    "##### Conclusion\n",
    "In the Newton’s-method we converge towards the desired result but never reach it in a finite number\n",
    "of steps. How fast we can converge is a key question.\n",
    "\n"
   ]
  },
  {
   "cell_type": "markdown",
   "metadata": {},
   "source": [
    "##### References \n",
    "\n",
    "[1] A Tour of Go; Exercise: Loops and Functions; https://tour.golang.org/flowcontrol/8   \n",
    "\n",
    "[2] Newton's method; Wikipedia; https://en.wikipedia.org/wiki/Newton%27s_method\n",
    "\n",
    "[3] Methods of computing square roots; Wikipedia; https://en.wikipedia.org/wiki/Methods_of_computing_square_roots\n",
    "\n",
    "[4] Getting started with task assessment; Ian McLoughlin;\n",
    "https://web.microsoftstream.com/video/0519941d-9f8b-4ae1-8935-6711117cf8fe \n",
    "\n",
    "[5] math.mit.edu, \"newton-sqrt\", [online], https://math.mit.edu/~stevenj/18.335/newton-sqrt.pdf\n",
    "\n",
    "[6] apod.nasa.gov, \"sqrt2\", [online], https://apod.nasa.gov/htmltest/gifcity/sqrt2.1mil   \n",
    "\n",
    "[7] Integer Roots [online] https://rosettacode.org/wiki/Integer_roots#Python\n",
    "\n",
    "***"
   ]
  },
  {
   "cell_type": "markdown",
   "metadata": {},
   "source": [
    "### Task 2: Chi-squared test  of Independence\n",
    "***"
   ]
  },
  {
   "cell_type": "markdown",
   "metadata": {},
   "source": [
    "####  Chi-square test\n",
    "***\n",
    "The Chi-Square Test of Independence allow to check if there is an association between categorical variables (i.e., whether the variables are independent or related). It is a nonparametric test. This test is also known as Chi-Square Test of Association.\n",
    "This test utilizes a contingency table to analyze the data. A contingency table (also known as a cross-tabulation, crosstab, or two-way table) is an arrangement in which data is classified according to two categorical variables. The categories for one variable appear in the rows, and the categories for the other variable appear in columns. Each variable must have two or more categories. Each cell reflects the total count of cases for a specific pair of categories.[8]\n",
    "\n",
    "After calculation of expected value of the two nominal variables and the test of independence will will be able to conduct hypothesis testing where a test statistic is computed and compared to a critical value. The critical value for the chi-square statistic is determined by the level of significance (typically .05) and the degrees of freedom. If the observed chi-square test statistic is greater than the critical value, the null hypothesis can be rejected.\n",
    "\n",
    "Null hypothesis: Assumes that there is no association between the two variables.\n",
    "\n",
    "Alternative hypothesis: Assumes that there is an association between the two variables. [11]\n",
    "\n",
    "***\n",
    "\n",
    "#### Wikipedia example\n",
    "\n",
    "The example of Wikipedia of the Chi-square test describes a city of 1,000,000 residents with four neighborhoods: A, B, C, and D. A random sample of 650 residents of the city is taken and their occupation is recorded as \"white collar\", \"blue collar\", or \"no collar\". The null hypothesis is that each person's neighborhood of residence is independent of the person's occupational classification. The data are tabulated as follow:\n",
    "\n",
    "\n",
    "               |  A |  B  |   C |  D  |  Total\n",
    "-----------------------------------------------\n",
    "White collar   | 90 | 60  | 104 | 95  |  349\n",
    "Blue collar    | 30 | 50  |  51 | 20  |  151\n",
    "No collar      | 30 | 40  |  45 | 35  |  150\n",
    "\n",
    "-----------------------------------------------\n",
    "Total          |150 |150  | 200 | 150 |  650\n",
    "\n",
    "\n",
    "From the website we also learn that the Chi-squared value based on it is approximately 24.6 [9]. \n",
    "\n",
    "In the task I will use scipy.stats to verify this value and calculate the associated p value. \n"
   ]
  },
  {
   "cell_type": "markdown",
   "metadata": {},
   "source": [
    "### Code"
   ]
  },
  {
   "cell_type": "code",
   "execution_count": 9,
   "metadata": {},
   "outputs": [
    {
     "name": "stdout",
     "output_type": "stream",
     "text": [
      "Data Table\n",
      "                A    B    C    D  Total\n",
      "White Collar   90   60  104   95    349\n",
      "Blue Collar    30   50   51   20    151\n",
      "No Collar      30   40   45   35    150\n",
      "Total         150  150  200  150    650\n",
      "\n",
      "Stat: 24.571202858582602\n",
      "p value: 0.016990737760739776\n",
      "Degrees of freedom: 12 \n",
      "\n",
      "dof=12\n",
      "[[ 80.53846154  80.53846154 107.38461538  80.53846154 349.        ]\n",
      " [ 34.84615385  34.84615385  46.46153846  34.84615385 151.        ]\n",
      " [ 34.61538462  34.61538462  46.15384615  34.61538462 150.        ]\n",
      " [150.         150.         200.         150.         650.        ]]\n",
      "probability=0.950, critical=21.026, stat=24.571\n",
      "Dependent (reject H0)\n",
      "significance=0.050, p=0.017\n",
      "Dependent (reject H0)\n"
     ]
    }
   ],
   "source": [
    "#import packages\n",
    "#import pandas for dataframe\n",
    "import pandas as pd\n",
    "#import numpy for the arrays of numbers\n",
    "import numpy as np\n",
    "#import scipy for the machine learning \n",
    "import scipy.stats as ss\n",
    "#chi-square test with similar proportions\n",
    "from scipy.stats import chi2_contingency\n",
    "from scipy.stats import chi2\n",
    "\n",
    "# plotting style for the plots:\n",
    "plt.style.use(\"fivethirtyeight\")\n",
    "\n",
    "# create the table with the arrays of numbers\n",
    "df = pd.DataFrame([[90,60,104,95,349],[30,50,51,20,151],[30,40,45,35,150],[150,150,200,150,650]], index=[\"White Collar\",\"Blue Collar\",\"No Collar\",\"Total\"], columns=[\"A\",\"B\",\"C\",\"D\",\"Total\"])\n",
    "print(\"Data Table\")\n",
    "print(df)\n",
    "\n",
    "# code adapt from https://machinelearningmastery.com/chi-squared-test-for-machine-learning/\n",
    "# run the chi test to calculate expeted value of 2 nominal variables\n",
    "stat,p,dof,expected = chi2_contingency(df) \n",
    "print(\"\\nStat:\",stat) \n",
    "\n",
    "# print the p value:\n",
    "print(\"p value:\",p) # a measure of the probability that an observed difference could have occurred just by random chance#\n",
    "\n",
    "# print the degree of freedom result \n",
    "print('Degrees of freedom: %d \\n' % dof)\n",
    "\n",
    "print('dof=%d' % dof)\n",
    "print(expected)\n",
    "\n",
    "# interpret test-statistic\n",
    "prob = 0.95\n",
    "critical = chi2.ppf(prob, dof)\n",
    "print('probability=%.3f, critical=%.3f, stat=%.3f' % (prob, critical, stat))\n",
    "# assess the result - if statistic >= crticial value, the result is significant, dependency exists, reject null hypothesis (H0)\n",
    "if abs(stat) >= critical:\n",
    "\tprint('Dependent (reject H0)')\n",
    "\n",
    "#if statistic < crticial value, the result is not significant, dependency does not exist, failed to reject null hypothesis (H0)\n",
    "else:\n",
    "\tprint('Independent (fail to reject H0)')\n",
    "# interpret p-value\n",
    "alpha = 1.0 - prob\n",
    "print('significance=%.3f, p=%.3f' % (alpha, p))\n",
    "if p <= alpha:\n",
    "\tprint('Dependent (reject H0)')\n",
    "else:\n",
    "\tprint('Independent (fail to reject H0)')"
   ]
  },
  {
   "cell_type": "markdown",
   "metadata": {},
   "source": [
    "#### Conclusion\n",
    "\n",
    "The conducted above chi-squared test of independence proved that the statistical value on the Wikipedia page is correct. After the critical value calculation it has been observed that the observed ch-square test statistic is less than the critical value the dependency exists and therfore the null hypothesis can be rejected."
   ]
  },
  {
   "cell_type": "markdown",
   "metadata": {},
   "source": [
    "#### References"
   ]
  },
  {
   "cell_type": "markdown",
   "metadata": {},
   "source": [
    "[8] SPSS Turorials: Chi-Square Test of Independence [online] https://libguides.library.kent.edu/spss/chisquare\n",
    "\n",
    "[9] Chi-squared tests; Wikipedia; https://en.wikipedia.org/wiki/Chi-squared_test"
   ]
  },
  {
   "cell_type": "markdown",
   "metadata": {},
   "source": [
    "[10] Chi-squared test for machine learning; https://machinelearningmastery.com/chi-squared-test-for-machine-learning/"
   ]
  },
  {
   "cell_type": "markdown",
   "metadata": {},
   "source": [
    "[11] Chi-Square Test of Independence; https://www.statisticssolutions.com/non-parametric-analysis-chi-square/"
   ]
  },
  {
   "cell_type": "code",
   "execution_count": null,
   "metadata": {},
   "outputs": [],
   "source": []
  }
 ],
 "metadata": {
  "kernelspec": {
   "display_name": "Python 3",
   "language": "python",
   "name": "python3"
  },
  "language_info": {
   "codemirror_mode": {
    "name": "ipython",
    "version": 3
   },
   "file_extension": ".py",
   "mimetype": "text/x-python",
   "name": "python",
   "nbconvert_exporter": "python",
   "pygments_lexer": "ipython3",
   "version": "3.8.3"
  }
 },
 "nbformat": 4,
 "nbformat_minor": 4
}
