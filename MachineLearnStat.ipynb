{
 "cells": [
  {
   "cell_type": "markdown",
   "metadata": {},
   "source": [
    "# Tasks\n"
   ]
  },
  {
   "cell_type": "markdown",
   "metadata": {},
   "source": [
    "These are my solutions to the Tasks assessment for Machine Learning and Statistics in 2020. The author is Katarzyna Chmielowiec-Connell (G00376370@gmit.ie)\n",
    "\n",
    "***"
   ]
  },
  {
   "cell_type": "markdown",
   "metadata": {},
   "source": [
    "### Task 1: Calculate a square root\n",
    "\n",
    "***\n",
    "\n",
    "In  Python we can calculate the square root of a number in many different ways but in this task the aim is to calculate the square root without using a built in Python library. One of the method that can be used for that purpose is the Netwon' method.\n",
    "\n",
    "Every real nuber has 2 square roots. The most common analytical methods in finding the square root are iterative and require two steps: finding a suitable starting value, followed by iterative refinement until termination criteria is met. The most suitable method for programmatic calculation is Newton's method which is based on a property of the derivative in the calculus [1, 2, 3, 4].\n",
    "\n",
    "To find the square root $b$ of a number $x$ we can use the following equation. \n",
    "\n",
    "$$ b_{next} = b - \\frac{b^2 - x}{2b}  $$\n",
    "\n",
    "With only a few iterations one can obtain a solution accurate to many decimal places. \n",
    "\n"
   ]
  },
  {
   "cell_type": "markdown",
   "metadata": {},
   "source": [
    "#### Code"
   ]
  },
  {
   "cell_type": "code",
   "execution_count": 2,
   "metadata": {},
   "outputs": [],
   "source": [
    "# code adopted from https://web.microsoftstream.com/video/0519941d-9f8b-4ae1-8935-6711117cf8fe \n",
    "\n",
    "# definition of the function sqrt_2\n",
    "def sqrt_2(x):\n",
    "    \"\"\"\n",
    "    # A function to calculate a square root of a number  \n",
    "    \"\"\"\n",
    "    # divide x by 2 to get the initial guess (the starting value)\n",
    "    b = x / 2\n",
    "    #Loop until happy with the accuracy.\n",
    "    while abs(x - (b * b)) > 0.001:\n",
    "        # starting with guess b, calculate a better b guess based on how close squareroot b is to x\n",
    "        b -= (b * b - x) / (2 * b)\n",
    "    #Return the (approximate) square root of x.\n",
    "    return b"
   ]
  },
  {
   "cell_type": "markdown",
   "metadata": {},
   "source": [
    "##### Tests of the function\n",
    "\n",
    "Here we test the function with some known values."
   ]
  },
  {
   "cell_type": "code",
   "execution_count": 3,
   "metadata": {},
   "outputs": [
    {
     "data": {
      "text/plain": [
       "1.4142156862745099"
      ]
     },
     "execution_count": 3,
     "metadata": {},
     "output_type": "execute_result"
    }
   ],
   "source": [
    "#Test the function on number 2\n",
    "sqrt_2(2)"
   ]
  },
  {
   "cell_type": "code",
   "execution_count": 4,
   "metadata": {},
   "outputs": [
    {
     "data": {
      "text/plain": [
       "1.4142135623730951"
      ]
     },
     "execution_count": 4,
     "metadata": {},
     "output_type": "execute_result"
    }
   ],
   "source": [
    "# import math library to compare the results \n",
    "import math\n",
    "math.sqrt(2)"
   ]
  },
  {
   "cell_type": "markdown",
   "metadata": {},
   "source": [
    "The function works correctly but it only displays 16 decimal places. To display hundres places, the following code was adopted:"
   ]
  },
  {
   "cell_type": "code",
   "execution_count": 5,
   "metadata": {},
   "outputs": [],
   "source": [
    "# Code adapt from https://rosettacode.org/wiki/Integer_roots#Python\n",
    "# defined function sqrt2\n",
    "def sqrt2(x):\n",
    "\n",
    "# set y to be a large integer\n",
    "    y = 2*100**x\n",
    "# set starting value as 1    \n",
    "    x_1 = 1 \n",
    "    \n",
    "# calculate the second step of approximation    \n",
    "    x_2 = (x_1 + y // (x_1)) // 2     \n",
    "\n",
    "    # using while loop get better guess of approximation\n",
    "    while x_1 != x_2:   \n",
    "        x_1 = x_2    \n",
    "        x_2 = (x_2 + y // x_2) // 2\n",
    "        \n",
    "#format the result to display decimal places   \n",
    "    result = f'{x_2  // 10**100}.{x_2  % 10**100:0100d}'\n",
    "    return result"
   ]
  },
  {
   "cell_type": "code",
   "execution_count": 6,
   "metadata": {},
   "outputs": [
    {
     "name": "stdout",
     "output_type": "stream",
     "text": [
      "1.4142135623730950488016887242096980785696718753769480731766797379907324784621070388503875343276415727\n"
     ]
    }
   ],
   "source": [
    "root = sqrt2(100)\n",
    "print(root)"
   ]
  },
  {
   "cell_type": "markdown",
   "metadata": {},
   "source": [
    "##### Conclusion\n",
    "In the Newton’s-method we converge towards the desired result but never reach it in a finite number\n",
    "of steps. How fast we can converge is a key question.\n",
    "\n"
   ]
  },
  {
   "cell_type": "markdown",
   "metadata": {},
   "source": [
    "##### References \n",
    "\n",
    "[1] A Tour of Go; Exercise: Loops and Functions; https://tour.golang.org/flowcontrol/8   \n",
    "\n",
    "[2] Newton's method; Wikipedia; https://en.wikipedia.org/wiki/Newton%27s_method\n",
    "\n",
    "[3] Methods of computing square roots; Wikipedia; https://en.wikipedia.org/wiki/Methods_of_computing_square_roots\n",
    "\n",
    "[4] Getting started with task assessment; Ian McLoughlin;\n",
    "https://web.microsoftstream.com/video/0519941d-9f8b-4ae1-8935-6711117cf8fe \n",
    "\n",
    "[5] math.mit.edu, \"newton-sqrt\", [online], https://math.mit.edu/~stevenj/18.335/newton-sqrt.pdf\n",
    "\n",
    "[6] apod.nasa.gov, \"sqrt2\", [online], https://apod.nasa.gov/htmltest/gifcity/sqrt2.1mil   \n",
    "\n",
    "[7] Integer Roots [online] https://rosettacode.org/wiki/Integer_roots#Python\n",
    "\n",
    "***"
   ]
  },
  {
   "cell_type": "markdown",
   "metadata": {},
   "source": [
    "### Task 2: Chi-squared test  of Independence\n",
    "***"
   ]
  },
  {
   "cell_type": "markdown",
   "metadata": {},
   "source": [
    "####  Chi-square test\n",
    "***\n",
    "The Chi-Square Test of Independence allow to check if there is an association between categorical variables (i.e., whether the variables are independent or related). It is a nonparametric test. This test is also known as Chi-Square Test of Association.\n",
    "This test utilizes a contingency table to analyze the data. A contingency table (also known as a cross-tabulation, crosstab, or two-way table) is an arrangement in which data is classified according to two categorical variables. The categories for one variable appear in the rows, and the categories for the other variable appear in columns. Each variable must have two or more categories. Each cell reflects the total count of cases for a specific pair of categories.[8]\n",
    "\n",
    "After calculation of expected value of the two nominal variables and the test of independence will will be able to conduct hypothesis testing where a test statistic is computed and compared to a critical value. The critical value for the chi-square statistic is determined by the level of significance (typically .05) and the degrees of freedom. If the observed chi-square test statistic is greater than the critical value, the null hypothesis can be rejected.\n",
    "\n",
    "Null hypothesis: Assumes that there is no association between the two variables.\n",
    "\n",
    "Alternative hypothesis: Assumes that there is an association between the two variables. [11]\n",
    "\n",
    "***\n",
    "\n",
    "#### Wikipedia example\n",
    "\n",
    "The example of Wikipedia of the Chi-square test describes a city of 1,000,000 residents with four neighborhoods: A, B, C, and D. A random sample of 650 residents of the city is taken and their occupation is recorded as \"white collar\", \"blue collar\", or \"no collar\". The null hypothesis is that each person's neighborhood of residence is independent of the person's occupational classification. The data are tabulated as follow:\n",
    "\n",
    "\n",
    "               |  A |  B  |   C |  D  |  Total\n",
    "-----------------------------------------------\n",
    "White collar   | 90 | 60  | 104 | 95  |  349\n",
    "Blue collar    | 30 | 50  |  51 | 20  |  151\n",
    "No collar      | 30 | 40  |  45 | 35  |  150\n",
    "\n",
    "-----------------------------------------------\n",
    "Total          |150 |150  | 200 | 150 |  650\n",
    "\n",
    "\n",
    "From the website we also learn that the Chi-squared value based on it is approximately 24.6 [9]. \n",
    "\n",
    "In the task I will use scipy.stats to verify this value and calculate the associated p value. \n"
   ]
  },
  {
   "cell_type": "markdown",
   "metadata": {},
   "source": [
    "#### Code"
   ]
  },
  {
   "cell_type": "code",
   "execution_count": 9,
   "metadata": {},
   "outputs": [
    {
     "name": "stdout",
     "output_type": "stream",
     "text": [
      "Data Table\n",
      "                A    B    C    D  Total\n",
      "White Collar   90   60  104   95    349\n",
      "Blue Collar    30   50   51   20    151\n",
      "No Collar      30   40   45   35    150\n",
      "Total         150  150  200  150    650\n",
      "\n",
      "Stat: 24.571202858582602\n",
      "p value: 0.016990737760739776\n",
      "Degrees of freedom: 12 \n",
      "\n",
      "dof=12\n",
      "[[ 80.53846154  80.53846154 107.38461538  80.53846154 349.        ]\n",
      " [ 34.84615385  34.84615385  46.46153846  34.84615385 151.        ]\n",
      " [ 34.61538462  34.61538462  46.15384615  34.61538462 150.        ]\n",
      " [150.         150.         200.         150.         650.        ]]\n",
      "probability=0.950, critical=21.026, stat=24.571\n",
      "Dependent (reject H0)\n",
      "significance=0.050, p=0.017\n",
      "Dependent (reject H0)\n"
     ]
    }
   ],
   "source": [
    "#import packages\n",
    "#import pandas for dataframe\n",
    "import pandas as pd\n",
    "\n",
    "import matplotlib.pyplot as plt\n",
    "#import numpy for the arrays of numbers\n",
    "import numpy as np\n",
    "#import scipy for the machine learning \n",
    "import scipy.stats as ss\n",
    "#chi-square test with similar proportions\n",
    "from scipy.stats import chi2_contingency\n",
    "from scipy.stats import chi2\n",
    "\n",
    "\n",
    "# plotting style for the plots:\n",
    "plt.style.use(\"fivethirtyeight\")\n",
    "\n",
    "# create the table with the arrays of numbers\n",
    "df = pd.DataFrame([[90,60,104,95,349],[30,50,51,20,151],[30,40,45,35,150],[150,150,200,150,650]], index=[\"White Collar\",\"Blue Collar\",\"No Collar\",\"Total\"], columns=[\"A\",\"B\",\"C\",\"D\",\"Total\"])\n",
    "print(\"Data Table\")\n",
    "print(df)\n",
    "\n",
    "# code adapt from https://machinelearningmastery.com/chi-squared-test-for-machine-learning/\n",
    "# run the chi test to calculate expeted value of 2 nominal variables\n",
    "stat,p,dof,expected = chi2_contingency(df) \n",
    "print(\"\\nStat:\",stat) \n",
    "\n",
    "# print the p value:\n",
    "print(\"p value:\",p) # a measure of the probability that an observed difference could have occurred just by random chance#\n",
    "\n",
    "# print the degree of freedom result \n",
    "print('Degrees of freedom: %d \\n' % dof)\n",
    "\n",
    "print('dof=%d' % dof)\n",
    "print(expected)\n",
    "\n",
    "# interpret test-statistic\n",
    "prob = 0.95\n",
    "critical = chi2.ppf(prob, dof)\n",
    "print('probability=%.3f, critical=%.3f, stat=%.3f' % (prob, critical, stat))\n",
    "# assess the result - if statistic >= crticial value, the result is significant, dependency exists, reject null hypothesis (H0)\n",
    "if abs(stat) >= critical:\n",
    "\tprint('Dependent (reject H0)')\n",
    "\n",
    "#if statistic < crticial value, the result is not significant, dependency does not exist, failed to reject null hypothesis (H0)\n",
    "else:\n",
    "\tprint('Independent (fail to reject H0)')\n",
    "# interpret p-value\n",
    "alpha = 1.0 - prob\n",
    "print('significance=%.3f, p=%.3f' % (alpha, p))\n",
    "if p <= alpha:\n",
    "\tprint('Dependent (reject H0)')\n",
    "else:\n",
    "\tprint('Independent (fail to reject H0)')"
   ]
  },
  {
   "cell_type": "markdown",
   "metadata": {},
   "source": [
    "#### Conclusion\n",
    "\n",
    "The conducted above chi-squared test of independence proved that the statistical value on the Wikipedia page is correct. After the critical value calculation it has been observed that the observed ch-square test statistic is less than the critical value the dependency exists and therfore the null hypothesis can be rejected."
   ]
  },
  {
   "cell_type": "markdown",
   "metadata": {},
   "source": [
    "#### References"
   ]
  },
  {
   "cell_type": "markdown",
   "metadata": {},
   "source": [
    "[8] SPSS Turorials: Chi-Square Test of Independence [online] https://libguides.library.kent.edu/spss/chisquare\n",
    "\n",
    "[9] Chi-squared tests; Wikipedia; https://en.wikipedia.org/wiki/Chi-squared_test"
   ]
  },
  {
   "cell_type": "markdown",
   "metadata": {},
   "source": [
    "[10] Chi-squared test for machine learning; https://machinelearningmastery.com/chi-squared-test-for-machine-learning/"
   ]
  },
  {
   "cell_type": "markdown",
   "metadata": {},
   "source": [
    "[11] Chi-Square Test of Independence; https://www.statisticssolutions.com/non-parametric-analysis-chi-square/"
   ]
  },
  {
   "cell_type": "markdown",
   "metadata": {},
   "source": [
    "***"
   ]
  },
  {
   "cell_type": "markdown",
   "metadata": {},
   "source": [
    "### Task 3: Standard deviation simulation in Numpy"
   ]
  },
  {
   "cell_type": "markdown",
   "metadata": {},
   "source": [
    "### Standard Deviation"
   ]
  },
  {
   "cell_type": "markdown",
   "metadata": {},
   "source": [
    "The standard deviation represents a measure of the spread of scores within a data set. The standard deviation of a population represent uefule data but as we are often presented with data from a sample only, we can estimate the population standard deviation from a sample standard deviation. The sample and population standard deviations are calculated differently."
   ]
  },
  {
   "cell_type": "markdown",
   "metadata": {},
   "source": [
    "There are six standard deviation formulas in Excel (eight if you consider database functions as well).[13]"
   ]
  },
  {
   "cell_type": "markdown",
   "metadata": {},
   "source": [
    "![](Excelshot.PNG)"
   ]
  },
  {
   "cell_type": "markdown",
   "metadata": {},
   "source": [
    "When calculating the sample standard deviation the formulas like STDEV.S, STDEVA, and STDEV can be used.\n",
    "Calculating the standard deviation for an entire population on the other hand would involve selecting between STDEV.P, STDEVPA, and STDEVP functions [14].\n",
    "\n",
    "For the purpose of this exerice I will research the difference between STDEV.S abd STDEV.P. \n"
   ]
  },
  {
   "cell_type": "markdown",
   "metadata": {},
   "source": [
    "#### STDEV.P vs STDEV.S"
   ]
  },
  {
   "cell_type": "markdown",
   "metadata": {},
   "source": [
    "When all we have is a sample, but we need to make a statement about the population standard deviation from which the sample is drawn, we need to use the sample standard deviation STDEV.S,\n",
    "\n",
    "STDEV.S(number1,[number2],...) is a Statistical function that calculates and returns the standard deviation for a sample of data. It calculates standard deviation using the “n-1” method and it has the following arguments:\n",
    "\n",
    "Number1     Required. The first number argument corresponding to a sample of a population. You can also use a single array or a reference to an array instead of arguments separated by commas.\n",
    "\n",
    "Number2, ...     Optional. Number arguments 2 to 254 corresponding to a sample of a population. You can also use a single array or a reference to an array instead of arguments separated by commas.[14]\n",
    "\n",
    "To calculate STDEV S we can use the following formula [15]:\n",
    "\n"
   ]
  },
  {
   "cell_type": "markdown",
   "metadata": {},
   "source": [
    "![](STDEVS.PNG)"
   ]
  },
  {
   "cell_type": "markdown",
   "metadata": {},
   "source": [
    "where x is the sample mean AVERAGE(number1,number2,…) and n is the sample size.\n",
    "where,\n",
    "\n",
    "$\\sum$ = sum of...\n",
    "    \n",
    "_<br>x = sample mean<br>\n",
    "    n = number of scores in sample.[16]"
   ]
  },
  {
   "cell_type": "markdown",
   "metadata": {},
   "source": [
    "If we have the entire population or a sample of a larger population, but we are only interested in this sample and do not wish to generalize our findings to the population we would use STDEV.P to calculate the population standard deviation. \n",
    "\n",
    "\n",
    "STDEV.P(number1,[number2],...) is used to calculate standard deviation using the entire population given as arguments (ignores logical values and text).\n",
    "\n",
    "Similarly to STDEV.S the STDEV.P has required and optional arguments:\n",
    "\n",
    "Number1     Required. The first number argument corresponding to a population.\n",
    "\n",
    "Number2, ...     Optional. Number arguments 2 to 254 corresponding to a population. You can also use a single array or a reference to an array instead of arguments separated by commas.\n",
    "\n",
    "The following formula is used to calculate STDEV.P:[17]\n"
   ]
  },
  {
   "cell_type": "markdown",
   "metadata": {},
   "source": [
    "![](STDEVP.PNG)"
   ]
  },
  {
   "cell_type": "markdown",
   "metadata": {},
   "source": [
    "where x is the sample mean AVERAGE(number1,number2,…) and n is the sample size."
   ]
  },
  {
   "cell_type": "markdown",
   "metadata": {},
   "source": [
    "The standard deviation is the square root of the average of the squared deviations from the mean, i.e., std = sqrt(mean(x)), where x = abs(a - a.mean())**2.\n",
    "\n",
    "The average squared deviation is usually calculated as x.sum() / N, where N = len(x). However, if ddof (Delta Degrees of Freedom) is specified, the divisor N - ddof is used instead. In standard statistical practice, ddof=1 provides an unbiased estimator of the variance of the infinite population. ddof=0 provides a maximum likelihood estimate of the variance for normally distributed variables [18]. As STDEV.S uses n-1 it is unbiased estimator which make it preferred choice.\n",
    "\n",
    "Lets check it on an example:\n",
    "\n",
    "\n"
   ]
  },
  {
   "cell_type": "markdown",
   "metadata": {},
   "source": [
    "\n",
    "The standard deviation, which computes the standard deviation along the specified axis, is the square root of the average of the squared deviations from the mean, for example:\n",
    "std = sqrt(mean(abs(x - x.mean())**2)).\n",
    "\n",
    "### Numpy.std\n",
    "Numpy.std returns the standard deviation, a measure of the spread of a distribution, of the array elements. The standard deviation is computed for the flattened array by default, otherwise over the specified axis.[12]\n",
    "\n",
    "#### Parameters\n",
    "#### a - array_like\n",
    "Calculate the standard deviation of these values.\n",
    "\n",
    "#### axis -> none or int or tuple of ints, optional\n",
    "Axis or axes along which the standard deviation is computed. The default is to compute the standard deviation of the flattened array.\n",
    "\n",
    "#### dtype -> dtype, optional\n",
    "Type to use in computing the standard deviation. For arrays of integer type the default is float64, for arrays of float types it is the same as the array type.\n",
    "\n",
    "#### out -> ndarray, optional\n",
    "Alternative output array in which to place the result. It must have the same shape as the expected output but the type (of the calculated values) will be cast if necessary.\n",
    "\n",
    "#### ddof (Delta Degrees of Freedom) -> int, optional\n",
    "The divisor used in calculations is N - ddof, where N represents the number of elements. By default ddof is zero.\n",
    "\n",
    "#### keepdims -> bool, optional\n",
    "If set to True, the axes which are reduced are left in the result as dimensions with size one. With this option, the result will broadcast correctly against the input array.\n",
    "\n",
    "If the default value is passed, then keepdims will not be passed through to the std method of sub-classes of ndarray, however any non-default value will be. If the sub-class’ method does not implement keepdims any exceptions will be raised.\n",
    "\n",
    "#### where -> array_like of bool, optional\n",
    "Elements to include in the standard deviation.\n",
    "\n",
    "#### Returns standard_deviation -> ndarray, see dtype parameter above.\n",
    "If out is None, return a new array containing the standard deviation, otherwise return a reference to the output array [12].\n",
    "\n"
   ]
  },
  {
   "cell_type": "markdown",
   "metadata": {},
   "source": [
    "#### Code"
   ]
  },
  {
   "cell_type": "code",
   "execution_count": 5,
   "metadata": {},
   "outputs": [
    {
     "data": {
      "image/png": "[encoded data removed]",
      "text/plain": [
       "<Figure size 1440x720 with 1 Axes>"
      ]
     },
     "metadata": {
      "needs_background": "light"
     },
     "output_type": "display_data"
    }
   ],
   "source": [
    "# Import libraries\n",
    "import numpy as np\n",
    "import matplotlib.pyplot as plt\n",
    "import seaborn as sns\n",
    "\n",
    "# define STDEV.S function\n",
    "def stdev_s(x):\n",
    "    rs = np.sqrt(np.sum((x - np.mean(x))**2)/(len(x)-1))\n",
    "    return rs\n",
    "\n",
    "# define STDEV.P \n",
    "def stdev_p(x):\n",
    "    rp = np.sqrt(np.sum((x - np.mean(x))**2)/len(x))\n",
    "    return rp\n",
    "\n",
    "# Draw random samples from a normal distribution.\n",
    "np.random.seed(10)\n",
    "\n",
    "# generate random data for a full population using np.random.normal \n",
    "mean = 0\n",
    "standard_deviation = 10\n",
    "entire_population = np.random.normal(mean,standard_deviation,1000000)\n",
    "\n",
    "plt.figure(figsize=(20,10))\n",
    "\n",
    "sns.distplot(entire_population)\n",
    "\n",
    "# set labels and title\n",
    "plt.xlabel('x ', fontsize=15)\n",
    "plt.ylabel('$f(x)$', fontsize=15)\n",
    "plt.title('Entire Population Distribution', fontsize = 15)\n",
    "\n",
    "plt.show()"
   ]
  },
  {
   "cell_type": "code",
   "execution_count": 6,
   "metadata": {},
   "outputs": [
    {
     "name": "stdout",
     "output_type": "stream",
     "text": [
      "Standard Deviation for entire population (STDEV.P):  9.99731591\n"
     ]
    }
   ],
   "source": [
    "#STDEV.P as standard deviation for entire population\n",
    "standard_deviation_entire = stdev_p(entire_population)\n",
    "print(\"Standard Deviation for entire population (STDEV.P): \",round(standard_deviation_entire,8))"
   ]
  },
  {
   "cell_type": "code",
   "execution_count": null,
   "metadata": {},
   "outputs": [],
   "source": []
  },
  {
   "cell_type": "code",
   "execution_count": 7,
   "metadata": {},
   "outputs": [
    {
     "name": "stdout",
     "output_type": "stream",
     "text": [
      "Standard Deviation for sample data (STDEV.S):  10.38437599\n"
     ]
    }
   ],
   "source": [
    "# STDEV.S - variant I: on a sample size of 400 from dataset \n",
    "\n",
    "# Create a sample data by using np.random.choice() function \n",
    "number_of_samples = 400\n",
    "\n",
    "sample_population = np.random.choice(entire_population, number_of_samples)\n",
    "np.random.shuffle(sample_population)\n",
    "\n",
    "# calculate standarde deviation by calling created previously function\n",
    "STDEV_S = stdev_s(sample_population)\n",
    "\n",
    "# print result\n",
    "\n",
    "print(\"Standard Deviation for sample data (STDEV.S): \",round(STDEV_S,8))"
   ]
  },
  {
   "cell_type": "code",
   "execution_count": 8,
   "metadata": {},
   "outputs": [
    {
     "name": "stdout",
     "output_type": "stream",
     "text": [
      "Standard Deviation for sample data (STDEV.S):  10.20099329\n"
     ]
    }
   ],
   "source": [
    "# STDEV.S - variant I: on a sample size of 60 from dataset \n",
    "\n",
    "# Create a sample data by using np.random.choice() function \n",
    "number_of_samples = 60\n",
    "\n",
    "sample_population = np.random.choice(entire_population, number_of_samples)\n",
    "np.random.shuffle(sample_population)\n",
    "\n",
    "# calculate standarde deviation by calling created previously function\n",
    "STDEV_S = stdev_s(sample_population)\n",
    "\n",
    "# print result\n",
    "\n",
    "print(\"Standard Deviation for sample data (STDEV.S): \",round(STDEV_S,8))"
   ]
  },
  {
   "cell_type": "code",
   "execution_count": 9,
   "metadata": {},
   "outputs": [
    {
     "name": "stdout",
     "output_type": "stream",
     "text": [
      "Standard Deviation for sample data (STDEV.S):  10.06062935\n"
     ]
    }
   ],
   "source": [
    "# STDEV.S - variant I: on a sample size of 10000 from dataset \n",
    "\n",
    "# Create a sample data by using np.random.choice() function \n",
    "number_of_samples = 10000\n",
    "\n",
    "sample_population = np.random.choice(entire_population, number_of_samples)\n",
    "np.random.shuffle(sample_population)\n",
    "\n",
    "# calculate standarde deviation by calling created previously function\n",
    "STDEV_S = stdev_s(sample_population)\n",
    "\n",
    "# print result\n",
    "\n",
    "print(\"Standard Deviation for sample data (STDEV.S): \",round(STDEV_S,8))"
   ]
  },
  {
   "cell_type": "markdown",
   "metadata": {},
   "source": [
    "### Conclusion"
   ]
  },
  {
   "cell_type": "markdown",
   "metadata": {},
   "source": [
    "Choosing betweem use of STDEV.S and STDEV.P can be confusing, mainly because name \"sample\" standard deviation is incorrectly being interpreted as meaning the standard deviation of the sample itself and not the estimate of the population standard deviation based on the sample. "
   ]
  },
  {
   "cell_type": "markdown",
   "metadata": {},
   "source": [
    "#### References"
   ]
  },
  {
   "cell_type": "markdown",
   "metadata": {},
   "source": [
    "[12] Nupmy.std; https://numpy.org/doc/stable/reference/generated/numpy.std.html"
   ]
  },
  {
   "cell_type": "markdown",
   "metadata": {},
   "source": [
    "[13] TrumpExcel; How to Calculate Standard Deviation in Excel (Step-by-Step); https://trumpexcel.com/standard-deviation/"
   ]
  },
  {
   "cell_type": "markdown",
   "metadata": {},
   "source": [
    "[14] Spreadsheetweb.com; Function: STDV.S; https://www.spreadsheetweb.com/excel-stdev-s-function/"
   ]
  },
  {
   "cell_type": "markdown",
   "metadata": {},
   "source": [
    "[15] STDEV.S function; Microsoft support; https://support.microsoft.com/en-us/office/stdev-s-function-7d69cf97-0c1f-4acf-be27-f3e83904cc23"
   ]
  },
  {
   "cell_type": "markdown",
   "metadata": {},
   "source": [
    "[16] LaTex; https://www.math.ubc.ca/~pwalls/math-python/jupyter/latex/"
   ]
  },
  {
   "cell_type": "markdown",
   "metadata": {},
   "source": [
    "[17] STDEV.P function; Microsoft Support; https://support.microsoft.com/en-us/office/stdev-p-function-6e917c05-31a0-496f-ade7-4f4e7462f285"
   ]
  },
  {
   "cell_type": "markdown",
   "metadata": {},
   "source": [
    "[18] Numpy.std; Numpy.org; https://numpy.org/devdocs/reference/generated/numpy.std.html"
   ]
  },
  {
   "cell_type": "markdown",
   "metadata": {},
   "source": [
    "[19]Standard Deviation; https://statistics.laerd.com/statistical-guides/measures-of-spread-standard-deviation.php"
   ]
  },
  {
   "cell_type": "markdown",
   "metadata": {},
   "source": [
    "***"
   ]
  },
  {
   "cell_type": "markdown",
   "metadata": {},
   "source": [
    "### Task 4: K Nearest Neighbours clustering on Iris data set using Scikit learn"
   ]
  },
  {
   "cell_type": "markdown",
   "metadata": {},
   "source": [
    "From the sklearn documentation\n",
    "https://scikit-learn.org/stable/modules/generated/sklearn.cluster.KMeans.html#sklearn.cluster.KMeans"
   ]
  },
  {
   "cell_type": "markdown",
   "metadata": {},
   "source": [
    "#### Scikit learn"
   ]
  },
  {
   "cell_type": "markdown",
   "metadata": {},
   "source": [
    "Scikit learn is a development led by interational community. Initially started in 2007 as a Google Summer of Code project by David Cornapeau, within few years it became simple and efficient tool for predictive data analysis.Scikit-learn is an open source machine learning library that supports supervised and unsupervised learning. It also provides various tools for model fitting, data preprocessing, model selection and evaluation, and many other utilities."
   ]
  },
  {
   "cell_type": "markdown",
   "metadata": {},
   "source": [
    "#### K Nearest Neighbours"
   ]
  },
  {
   "cell_type": "markdown",
   "metadata": {},
   "source": [
    "K-Nearest Neighbor algorithm is a standard machine learning method which is a good example of an algorithm that is a general approximator for relationships among a set of data. The algorithm makes no assumptions about the relationships among the data, but uses the data alone to make new predictions with observed data which makes it popular choice in the large-scale data mining efforts. This algorithm finds exemplars among the observations that are most like the new data presented to the algorithm, and then assigns to the new data point the predicted value of the exemplar most similar to it.\n",
    "Conceptually, each point is plotted in a high-dimensional space, where each axis in the space corresponds to an individual variable. When we have a new (test) data point, we want to find out the K nearest neighbors that are closest (ie, most “similar” to it). The number K is typically chosen as the square root of N, the total number of points in the training data set. (Thus, if N is 400, K = 20).[20]\n",
    "\n"
   ]
  },
  {
   "cell_type": "code",
   "execution_count": 16,
   "metadata": {},
   "outputs": [
    {
     "name": "stdout",
     "output_type": "stream",
     "text": [
      "(150, 5)\n",
      "species\n",
      "setosa        50\n",
      "versicolor    50\n",
      "virginica     50\n",
      "dtype: int64\n",
      "   sepal_length  sepal_width  petal_length  petal_width species\n",
      "0           5.1          3.5           1.4          0.2  setosa\n",
      "1           4.9          3.0           1.4          0.2  setosa\n",
      "2           4.7          3.2           1.3          0.2  setosa\n",
      "3           4.6          3.1           1.5          0.2  setosa\n",
      "4           5.0          3.6           1.4          0.2  setosa\n",
      "5           5.4          3.9           1.7          0.4  setosa\n",
      "6           4.6          3.4           1.4          0.3  setosa\n",
      "7           5.0          3.4           1.5          0.2  setosa\n",
      "8           4.4          2.9           1.4          0.2  setosa\n",
      "9           4.9          3.1           1.5          0.1  setosa\n",
      "     sepal_length  sepal_width  petal_length  petal_width    species\n",
      "140           6.7          3.1           5.6          2.4  virginica\n",
      "141           6.9          3.1           5.1          2.3  virginica\n",
      "142           5.8          2.7           5.1          1.9  virginica\n",
      "143           6.8          3.2           5.9          2.3  virginica\n",
      "144           6.7          3.3           5.7          2.5  virginica\n",
      "145           6.7          3.0           5.2          2.3  virginica\n",
      "146           6.3          2.5           5.0          1.9  virginica\n",
      "147           6.5          3.0           5.2          2.0  virginica\n",
      "148           6.2          3.4           5.4          2.3  virginica\n",
      "149           5.9          3.0           5.1          1.8  virginica\n",
      "       sepal_length  sepal_width  petal_length  petal_width\n",
      "count    150.000000   150.000000    150.000000   150.000000\n",
      "mean       5.843333     3.057333      3.758000     1.199333\n",
      "std        0.828066     0.435866      1.765298     0.762238\n",
      "min        4.300000     2.000000      1.000000     0.100000\n",
      "25%        5.100000     2.800000      1.600000     0.300000\n",
      "50%        5.800000     3.000000      4.350000     1.300000\n",
      "75%        6.400000     3.300000      5.100000     1.800000\n",
      "max        7.900000     4.400000      6.900000     2.500000\n"
     ]
    },
    {
     "ename": "NameError",
     "evalue": "name 'x' is not defined",
     "output_type": "error",
     "traceback": [
      "\u001b[1;31m---------------------------------------------------------------------------\u001b[0m",
      "\u001b[1;31mNameError\u001b[0m                                 Traceback (most recent call last)",
      "\u001b[1;32m<ipython-input-16-8fb8ac17f152>\u001b[0m in \u001b[0;36m<module>\u001b[1;34m\u001b[0m\n\u001b[0;32m     31\u001b[0m \u001b[1;33m\u001b[0m\u001b[0m\n\u001b[0;32m     32\u001b[0m \u001b[1;32mfrom\u001b[0m \u001b[0msklearn\u001b[0m\u001b[1;33m.\u001b[0m\u001b[0mmodel_selection\u001b[0m \u001b[1;32mimport\u001b[0m \u001b[0mtrain_test_split\u001b[0m\u001b[1;33m\u001b[0m\u001b[1;33m\u001b[0m\u001b[0m\n\u001b[1;32m---> 33\u001b[1;33m \u001b[0mx_train\u001b[0m\u001b[1;33m,\u001b[0m\u001b[0mx_test\u001b[0m\u001b[1;33m,\u001b[0m\u001b[0my_train\u001b[0m\u001b[1;33m,\u001b[0m\u001b[0my_test\u001b[0m \u001b[1;33m=\u001b[0m \u001b[0mtrain_test_split\u001b[0m\u001b[1;33m(\u001b[0m\u001b[0mx\u001b[0m\u001b[1;33m,\u001b[0m\u001b[0my\u001b[0m\u001b[1;33m,\u001b[0m\u001b[0mtest_size\u001b[0m\u001b[1;33m=\u001b[0m\u001b[1;36m0.2\u001b[0m\u001b[1;33m,\u001b[0m \u001b[0mrandom_state\u001b[0m\u001b[1;33m=\u001b[0m\u001b[1;36m0\u001b[0m\u001b[1;33m)\u001b[0m\u001b[1;33m\u001b[0m\u001b[1;33m\u001b[0m\u001b[0m\n\u001b[0m\u001b[0;32m     34\u001b[0m \u001b[1;33m\u001b[0m\u001b[0m\n\u001b[0;32m     35\u001b[0m \u001b[1;31m#K-NEAREST NEIGHBOUR\u001b[0m\u001b[1;33m\u001b[0m\u001b[1;33m\u001b[0m\u001b[1;33m\u001b[0m\u001b[0m\n",
      "\u001b[1;31mNameError\u001b[0m: name 'x' is not defined"
     ]
    }
   ],
   "source": [
    "# Import Numpy library for mathematical functions\n",
    "import numpy as np\n",
    "\n",
    "# Import Pandas library to analyze the data\n",
    "import pandas as pd   \n",
    "\n",
    "# imprt matplotlib for data visualzation\n",
    "import matplotlib.pyplot as plt\n",
    "\n",
    "# To download iris dataset in the form of a Pandas DataFrame import the seaborn library\n",
    "import seaborn as sns \n",
    "\n",
    "# Load Iris dataset using sklearn\n",
    "from sklearn.datasets import load_iris\n",
    "\n",
    "# Define Iris data as Panda Dataframe\n",
    "seadf = sns.load_dataset('iris')\n",
    "# Use shape command to check how many instances(rows) and attributes (columns) the set contains and what are the species proportions\n",
    "# code adoped from https://machinelearningmastery.com/machine-learning-in-python-step-by-step/\n",
    "print(seadf.shape)\n",
    "print(seadf.groupby('species').size())\n",
    "\n",
    "# Use 'Head' and 'Tail' commands to print first 20 rows to see the format of data\n",
    "# code adopted from https://machinelearningmastery.com/machine-learning-in-python-step-by-step/\n",
    "print(seadf.head(10))\n",
    "print(seadf.tail(10))\n",
    "\n",
    "#To give a statistical summary about the dataset (mean, maximum, minimum and devation figures)\n",
    "#Code adopted from https://medium.com/codebagng/basic-analysis-of-the-iris-data-set-using-python-2995618a6342\n",
    "print(seadf.describe()) \n",
    "\n",
    "from sklearn.model_selection import train_test_split\n",
    "x_train,x_test,y_train,y_test = train_test_split(x,y,test_size=0.2, random_state=0)\n",
    "\n",
    "#K-NEAREST NEIGHBOUR\n",
    "from sklearn.neighbors import KNeighborsClassifier\n",
    "\n",
    "classifier = KNeighborsClassifier(n_neighbors=8)\n",
    "classifier.fit(x_train,y_train)\n",
    "y_pred = classifier.predict(x_test)\n",
    "\n",
    "generateClassificationReport(y_test,y_pred)"
   ]
  },
  {
   "cell_type": "code",
   "execution_count": 17,
   "metadata": {},
   "outputs": [],
   "source": [
    "#### Data set"
   ]
  },
  {
   "cell_type": "code",
   "execution_count": null,
   "metadata": {},
   "outputs": [],
   "source": [
    "[Iris Data Analysis and machine learning] https://www.kaggle.com/gopaltirupur/iris-data-analysis-and-machine-learning-python"
   ]
  },
  {
   "cell_type": "code",
   "execution_count": null,
   "metadata": {},
   "outputs": [],
   "source": []
  },
  {
   "cell_type": "markdown",
   "metadata": {},
   "source": [
    "#### References"
   ]
  },
  {
   "cell_type": "markdown",
   "metadata": {},
   "source": [
    "[20] K Nearest Neighbor; Science Direct; https://www.sciencedirect.com/topics/immunology-and-microbiology/k-nearest-neighbor"
   ]
  }
 ],
 "metadata": {
  "kernelspec": {
   "display_name": "Python 3",
   "language": "python",
   "name": "python3"
  },
  "language_info": {
   "codemirror_mode": {
    "name": "ipython",
    "version": 3
   },
   "file_extension": ".py",
   "mimetype": "text/x-python",
   "name": "python",
   "nbconvert_exporter": "python",
   "pygments_lexer": "ipython3",
   "version": "3.8.3"
  }
 },
 "nbformat": 4,
 "nbformat_minor": 4
}
